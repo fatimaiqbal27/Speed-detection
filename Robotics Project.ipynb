{
 "cells": [
  {
   "cell_type": "markdown",
   "id": "4fb2473c",
   "metadata": {},
   "source": [
    "# Check Python Version"
   ]
  },
  {
   "cell_type": "code",
   "execution_count": 1,
   "id": "eb5180c1",
   "metadata": {},
   "outputs": [
    {
     "data": {
      "text/plain": [
       "'3.9.13'"
      ]
     },
     "execution_count": 1,
     "metadata": {},
     "output_type": "execute_result"
    }
   ],
   "source": [
    "from platform import python_version\n",
    "python_version()"
   ]
  },
  {
   "cell_type": "markdown",
   "id": "b62ff9f9",
   "metadata": {},
   "source": [
    "# Import and Check cv2"
   ]
  },
  {
   "cell_type": "code",
   "execution_count": 2,
   "id": "4ea9bb49",
   "metadata": {},
   "outputs": [
    {
     "data": {
      "text/plain": [
       "'4.6.0'"
      ]
     },
     "execution_count": 2,
     "metadata": {},
     "output_type": "execute_result"
    }
   ],
   "source": [
    "import cv2\n",
    "cv2.__version__"
   ]
  },
  {
   "cell_type": "markdown",
   "id": "467e9e81",
   "metadata": {},
   "source": [
    "# Import and Check numpy"
   ]
  },
  {
   "cell_type": "code",
   "execution_count": 3,
   "id": "9b676ef6",
   "metadata": {},
   "outputs": [
    {
     "data": {
      "text/plain": [
       "'1.21.5'"
      ]
     },
     "execution_count": 3,
     "metadata": {},
     "output_type": "execute_result"
    }
   ],
   "source": [
    "import numpy as np\n",
    "np. __version__"
   ]
  },
  {
   "cell_type": "markdown",
   "id": "ea411794",
   "metadata": {},
   "source": [
    "# Count number of vehicles"
   ]
  },
  {
   "cell_type": "code",
   "execution_count": 42,
   "id": "408deeca",
   "metadata": {},
   "outputs": [
    {
     "name": "stdout",
     "output_type": "stream",
     "text": [
      "car is detected : 0\n",
      "car is detected : 0\n",
      "car is detected : 1\n",
      "car is detected : 1\n",
      "car is detected : 1\n",
      "car is detected : 2\n",
      "car is detected : 2\n",
      "car is detected : 2\n",
      "car is detected : 3\n",
      "car is detected : 3\n",
      "car is detected : 3\n",
      "car is detected : 4\n",
      "car is detected : 4\n",
      "car is detected : 4\n",
      "car is detected : 5\n",
      "car is detected : 5\n",
      "car is detected : 5\n",
      "car is detected : 6\n",
      "car is detected : 6\n",
      "car is detected : 6\n",
      "car is detected : 7\n",
      "car is detected : 7\n",
      "car is detected : 7\n",
      "car is detected : 8\n",
      "car is detected : 8\n",
      "car is detected : 8\n",
      "car is detected : 9\n",
      "car is detected : 9\n",
      "car is detected : 9\n",
      "car is detected : 10\n",
      "car is detected : 10\n",
      "car is detected : 10\n",
      "car is detected : 11\n",
      "car is detected : 11\n",
      "car is detected : 11\n",
      "car is detected : 12\n",
      "car is detected : 12\n",
      "car is detected : 12\n",
      "car is detected : 13\n",
      "car is detected : 13\n",
      "car is detected : 13\n",
      "car is detected : 14\n",
      "car is detected : 14\n",
      "car is detected : 14\n",
      "car is detected : 15\n",
      "car is detected : 15\n",
      "car is detected : 15\n",
      "car is detected : 16\n",
      "car is detected : 16\n",
      "car is detected : 16\n",
      "car is detected : 17\n",
      "car is detected : 17\n",
      "car is detected : 17\n",
      "car is detected : 18\n",
      "car is detected : 18\n",
      "car is detected : 18\n",
      "car is detected : 19\n",
      "car is detected : 19\n",
      "car is detected : 19\n",
      "car is detected : 20\n",
      "car is detected : 20\n",
      "car is detected : 20\n",
      "car is detected : 21\n",
      "car is detected : 21\n",
      "car is detected : 21\n",
      "car is detected : 22\n",
      "car is detected : 22\n",
      "car is detected : 22\n",
      "car is detected : 23\n",
      "car is detected : 23\n",
      "car is detected : 23\n",
      "car is detected : 24\n",
      "car is detected : 24\n",
      "car is detected : 24\n",
      "car is detected : 25\n",
      "car is detected : 25\n",
      "car is detected : 25\n",
      "car is detected : 26\n",
      "car is detected : 26\n",
      "car is detected : 26\n",
      "car is detected : 27\n",
      "car is detected : 27\n",
      "car is detected : 27\n",
      "car is detected : 28\n",
      "car is detected : 28\n",
      "car is detected : 28\n",
      "car is detected : 29\n",
      "car is detected : 29\n",
      "car is detected : 29\n",
      "car is detected : 30\n",
      "car is detected : 30\n",
      "car is detected : 30\n"
     ]
    },
    {
     "ename": "error",
     "evalue": "OpenCV(4.6.0) D:\\a\\opencv-python\\opencv-python\\opencv\\modules\\imgproc\\src\\color.cpp:182: error: (-215:Assertion failed) !_src.empty() in function 'cv::cvtColor'\n",
     "output_type": "error",
     "traceback": [
      "\u001b[1;31m---------------------------------------------------------------------------\u001b[0m",
      "\u001b[1;31merror\u001b[0m                                     Traceback (most recent call last)",
      "\u001b[1;32m~\\AppData\\Local\\Temp\\ipykernel_11612\\4028190637.py\u001b[0m in \u001b[0;36m<module>\u001b[1;34m\u001b[0m\n\u001b[0;32m     27\u001b[0m     \u001b[0mtemp\u001b[0m \u001b[1;33m=\u001b[0m \u001b[0mfloat\u001b[0m\u001b[1;33m(\u001b[0m\u001b[1;36m1\u001b[0m\u001b[1;33m/\u001b[0m\u001b[0mdelay\u001b[0m\u001b[1;33m)\u001b[0m\u001b[1;33m\u001b[0m\u001b[1;33m\u001b[0m\u001b[0m\n\u001b[0;32m     28\u001b[0m     \u001b[0msleep\u001b[0m\u001b[1;33m(\u001b[0m\u001b[0mtemp\u001b[0m\u001b[1;33m)\u001b[0m\u001b[1;33m\u001b[0m\u001b[1;33m\u001b[0m\u001b[0m\n\u001b[1;32m---> 29\u001b[1;33m     \u001b[0mgrey\u001b[0m \u001b[1;33m=\u001b[0m \u001b[0mcv2\u001b[0m\u001b[1;33m.\u001b[0m\u001b[0mcvtColor\u001b[0m\u001b[1;33m(\u001b[0m\u001b[0mframe1\u001b[0m\u001b[1;33m,\u001b[0m \u001b[0mcv2\u001b[0m\u001b[1;33m.\u001b[0m\u001b[0mCOLOR_BGR2GRAY\u001b[0m\u001b[1;33m)\u001b[0m\u001b[1;33m\u001b[0m\u001b[1;33m\u001b[0m\u001b[0m\n\u001b[0m\u001b[0;32m     30\u001b[0m     \u001b[0mblur\u001b[0m \u001b[1;33m=\u001b[0m \u001b[0mcv2\u001b[0m\u001b[1;33m.\u001b[0m\u001b[0mGaussianBlur\u001b[0m\u001b[1;33m(\u001b[0m\u001b[0mgrey\u001b[0m\u001b[1;33m,\u001b[0m\u001b[1;33m(\u001b[0m\u001b[1;36m3\u001b[0m\u001b[1;33m,\u001b[0m\u001b[1;36m3\u001b[0m\u001b[1;33m)\u001b[0m\u001b[1;33m,\u001b[0m\u001b[1;36m5\u001b[0m\u001b[1;33m)\u001b[0m\u001b[1;33m\u001b[0m\u001b[1;33m\u001b[0m\u001b[0m\n\u001b[0;32m     31\u001b[0m     \u001b[0mimg_sub\u001b[0m \u001b[1;33m=\u001b[0m \u001b[0msubtraction\u001b[0m\u001b[1;33m.\u001b[0m\u001b[0mapply\u001b[0m\u001b[1;33m(\u001b[0m\u001b[0mblur\u001b[0m\u001b[1;33m)\u001b[0m\u001b[1;33m\u001b[0m\u001b[1;33m\u001b[0m\u001b[0m\n",
      "\u001b[1;31merror\u001b[0m: OpenCV(4.6.0) D:\\a\\opencv-python\\opencv-python\\opencv\\modules\\imgproc\\src\\color.cpp:182: error: (-215:Assertion failed) !_src.empty() in function 'cv::cvtColor'\n"
     ]
    }
   ],
   "source": [
    "from time import sleep\n",
    "\n",
    "min_width = 80 #Minimum width of rectangle\n",
    "height_min = 80 #Minimum height of rectangle\n",
    "\n",
    "offset = 6 #Error allowed between pixels\n",
    "\n",
    "post_line = 290 #Count line position\n",
    "\n",
    "delay= 60 #video fps\n",
    "\n",
    "detect = []\n",
    "car= 0\n",
    "cars= 0\n",
    "\n",
    "def paste_center(x, y, w, h):\n",
    "    x1 = int(w / 2)\n",
    "    y1 = int(h / 2)\n",
    "    cx = x + x1\n",
    "    cy = y + y1\n",
    "    return cx,cy\n",
    "\n",
    "cap = cv2.VideoCapture('lane_3.mp4') #we could make a GUI to select files\n",
    "subtraction = cv2.createBackgroundSubtractorMOG2()\n",
    "\n",
    "while True:\n",
    "    ret , frame1 = cap.read()\n",
    "    temp = float(1/delay)\n",
    "    sleep(temp) \n",
    "    grey = cv2.cvtColor(frame1, cv2.COLOR_BGR2GRAY)\n",
    "    blur = cv2.GaussianBlur(grey,(3,3),5)\n",
    "    img_sub = subtraction.apply(blur)\n",
    "    dilat = cv2.dilate(img_sub,np.ones((5,5)))\n",
    "    kernel = cv2.getStructuringElement(cv2.MORPH_ELLIPSE, (5, 5))\n",
    "    dilatada = cv2.morphologyEx (dilat, cv2. MORPH_CLOSE , kernel)\n",
    "    dilatada = cv2.morphologyEx (dilatada, cv2. MORPH_CLOSE , kernel)\n",
    "    contour,h=cv2.findContours(dilatada,cv2.RETR_TREE,cv2.CHAIN_APPROX_SIMPLE)\n",
    "    \n",
    "    cv2.line(frame1, (0, post_line), (1200, post_line), (255,127,0), 3) \n",
    "    for(i,c) in enumerate(contour):\n",
    "        (x,y,w,h) = cv2.boundingRect(c)\n",
    "        validate_contour = (w >= min_width) and (h >= height_min)\n",
    "        if not validate_contour:\n",
    "            continue\n",
    "\n",
    "        cv2.rectangle(frame1,(x,y),(x+w,y+h),(0,255,0),2)        \n",
    "        center = paste_center(x, y, w, h)\n",
    "        detect.append(center)\n",
    "        cv2.circle(frame1, center, 4, (0, 0,255), -1)\n",
    "\n",
    "        for (x,y) in detect: # counting cars\n",
    "            if y<(post_line+offset) and y>(post_line-offset):\n",
    "                car+=1\n",
    "                cars=int(car/3)\n",
    "                \n",
    "                cv2.line(frame1, (10, post_line), (600, post_line), (0,127,255), 3)  \n",
    "                detect.remove((x,y))\n",
    "                print(\"car is detected : \"+str(cars))\n",
    "                # Open the file in write mode\n",
    "                with open('number_of_vehicles_lane_1.txt', 'w') as file:\n",
    "                    # Write to the file\n",
    "                    file.write(str(cars))\n",
    "       \n",
    "    cv2.putText(frame1, \"VEHICLE COUNT : \"+str(cars), (450, 70), cv2.FONT_HERSHEY_SIMPLEX, 2, (0, 0, 255),5)\n",
    "    cv2.imshow(\"Video-Original\" , frame1)\n",
    "    cv2.imshow(\"Detected\",dilatada)\n",
    "\n",
    "    if cv2.waitKey(1) == 27:\n",
    "        break\n",
    "        \n",
    "cv2.destroyAllWindows()\n",
    "cap.release()"
   ]
  },
  {
   "cell_type": "markdown",
   "id": "099e82ef",
   "metadata": {},
   "source": [
    "# Synchronization Logic"
   ]
  },
  {
   "cell_type": "code",
   "execution_count": 7,
   "id": "d601ff6a",
   "metadata": {},
   "outputs": [
    {
     "name": "stdout",
     "output_type": "stream",
     "text": [
      "Input number of vehicles: 218 48 112 56\n",
      "\n",
      "Time for each lane: [30, 13.27188940092166, 30, 15.483870967741936]\n",
      "Total time:  88.75576036866359\n"
     ]
    }
   ],
   "source": [
    "number_of_lanes = 4\n",
    "no_of_vehicles = []\n",
    "\n",
    "for i in range(number_of_lanes):\n",
    "    file_name = \"number_of_vehicles_lane_\" + str(i+1) + \".txt\"\n",
    "    f = open(file_name, \"r\")\n",
    "    no_of_vehicles.append(int(f.readline()))\n",
    "\n",
    "baseTimer = 120 # baseTimer = int(input(\"Enter the base timer value\"))\n",
    "timeLimits = [5, 30] # timeLimits = list(map(int,input(\"Enter the time limits \").split()))\n",
    "print(\"Input number of vehicles:\", *no_of_vehicles)\n",
    "\n",
    "t = [(i / sum(no_of_vehicles)) * baseTimer if timeLimits[0] < (i / sum(no_of_vehicles)) * baseTimer < timeLimits[1] else min(timeLimits, key=lambda x: abs(x - (i / sum(no_of_vehicles)) * baseTimer)) for i in no_of_vehicles]\n",
    "\n",
    "print(\"\\nTime for each lane:\", t)\n",
    "print(\"Total time: \", sum(t))"
   ]
  },
  {
   "cell_type": "markdown",
   "id": "2b1b4d6d",
   "metadata": {},
   "source": [
    "# Traffic Violation Detection System"
   ]
  },
  {
   "cell_type": "code",
   "execution_count": null,
   "id": "f8adf361",
   "metadata": {},
   "outputs": [],
   "source": [
    "# import the necessary packages\n",
    "import cv2\n",
    "import imutils\n",
    "import os\n",
    "import re\n",
    "import numpy as np\n",
    "from os.path import isfile, join\n",
    "import matplotlib.pyplot as plt\n",
    "\n",
    "col_frames = os.listdir('frames/')\n",
    "\n",
    "# sort file names\n",
    "col_frames.sort(key=lambda f: int(re.sub('\\D', '', f)))\n",
    "\n",
    "# empty list to store the frames\n",
    "col_images=[]\n",
    "\n",
    "for i in col_frames:\n",
    "    # read the frames\n",
    "    img = cv2.imread('frames/'+i)\n",
    "    # append the frames to the list\n",
    "    col_images.append(img)\n",
    "  \n",
    "i = 13\n",
    "\n",
    "for frame in [i, i+1]:\n",
    "    plt.imshow(cv2.cvtColor(col_images[frame], cv2.COLOR_BGR2RGB))\n",
    "    plt.title(\"frame: \"+str(frame))\n",
    "    plt.show()"
   ]
  },
  {
   "cell_type": "code",
   "execution_count": null,
   "id": "8cecd7f1",
   "metadata": {},
   "outputs": [],
   "source": [
    "# convert the frames to grayscale\n",
    "grayA = cv2.cvtColor(col_images[i], cv2.COLOR_BGR2GRAY)\n",
    "grayB = cv2.cvtColor(col_images[i+1], cv2.COLOR_BGR2GRAY)\n",
    "\n",
    "# plot the image after frame differencing\n",
    "plt.imshow(cv2.absdiff(grayB, grayA), cmap = 'gray')\n",
    "plt.show()"
   ]
  },
  {
   "cell_type": "code",
   "execution_count": null,
   "id": "39ba72c8",
   "metadata": {},
   "outputs": [],
   "source": [
    "diff_image = cv2.absdiff(grayB, grayA)\n",
    "\n",
    "# perform image thresholding\n",
    "ret, thresh = cv2.threshold(diff_image, 30, 255, cv2.THRESH_BINARY)\n",
    "\n",
    "# plot image after thresholding\n",
    "plt.imshow(thresh, cmap = 'gray')\n",
    "plt.show()"
   ]
  },
  {
   "cell_type": "code",
   "execution_count": null,
   "id": "3d1eb704",
   "metadata": {},
   "outputs": [],
   "source": [
    "# apply image dilation\n",
    "kernel = np.ones((3,3),np.uint8)\n",
    "dilated = cv2.dilate(thresh,kernel,iterations = 1)\n",
    "\n",
    "# plot dilated image\n",
    "plt.imshow(dilated, cmap = 'gray')\n",
    "plt.show()"
   ]
  },
  {
   "cell_type": "code",
   "execution_count": null,
   "id": "9ac35702",
   "metadata": {},
   "outputs": [],
   "source": [
    "# plot vehicle detection zone\n",
    "plt.imshow(dilated)\n",
    "cv2.line(dilated, (0, 80),(256,80),(100, 0, 0))\n",
    "plt.show()"
   ]
  },
  {
   "cell_type": "code",
   "execution_count": null,
   "id": "d50ca891",
   "metadata": {},
   "outputs": [],
   "source": [
    "contours, hierarchy = cv2.findContours(thresh.copy(),cv2.RETR_TREE,cv2.CHAIN_APPROX_NONE)"
   ]
  },
  {
   "cell_type": "code",
   "execution_count": null,
   "id": "6dc36e83",
   "metadata": {},
   "outputs": [],
   "source": [
    "valid_cntrs = []\n",
    "\n",
    "for i,cntr in enumerate(contours):\n",
    "    x,y,w,h = cv2.boundingRect(cntr)\n",
    "    if (x <= 200) & (y >= 80) & (cv2.contourArea(cntr) >= 25):\n",
    "        valid_cntrs.append(cntr)\n",
    "\n",
    "# count of discovered contours        \n",
    "len(valid_cntrs)"
   ]
  },
  {
   "cell_type": "code",
   "execution_count": null,
   "id": "292e2d8b",
   "metadata": {},
   "outputs": [],
   "source": [
    "dmy = col_images[13].copy()\n",
    "\n",
    "cv2.drawContours(dmy, valid_cntrs, -1, (127,200,0), 2)\n",
    "cv2.line(dmy, (0, 80),(256,80),(100, 255, 255))\n",
    "plt.imshow(dmy)\n",
    "plt.show()"
   ]
  },
  {
   "cell_type": "code",
   "execution_count": null,
   "id": "5e0be125",
   "metadata": {},
   "outputs": [],
   "source": [
    "# kernel for image dilation\n",
    "kernel = np.ones((4,4),np.uint8)\n",
    "\n",
    "# font style\n",
    "font = cv2.FONT_HERSHEY_SIMPLEX\n",
    "\n",
    "# directory to save the ouput frames\n",
    "pathIn = \"contour_frames_3/\"\n",
    "\n",
    "for i in range(len(col_images)-1):\n",
    "    \n",
    "    # frame differencing\n",
    "    grayA = cv2.cvtColor(col_images[i], cv2.COLOR_BGR2GRAY)\n",
    "    grayB = cv2.cvtColor(col_images[i+1], cv2.COLOR_BGR2GRAY)\n",
    "    diff_image = cv2.absdiff(grayB, grayA)\n",
    "    \n",
    "    # image thresholding\n",
    "    ret, thresh = cv2.threshold(diff_image, 30, 255, cv2.THRESH_BINARY)\n",
    "    \n",
    "    # image dilation\n",
    "    dilated = cv2.dilate(thresh,kernel,iterations = 1)\n",
    "    \n",
    "    # find contours\n",
    "    contours, hierarchy = cv2.findContours(dilated.copy(), cv2.RETR_TREE,cv2.CHAIN_APPROX_NONE)\n",
    "    \n",
    "    # shortlist contours appearing in the detection zone\n",
    "    valid_cntrs = []\n",
    "    for cntr in contours:\n",
    "        x,y,w,h = cv2.boundingRect(cntr)\n",
    "        if (x <= 200) & (y >= 80) & (cv2.contourArea(cntr) >= 25):\n",
    "            if (y >= 90) & (cv2.contourArea(cntr) < 40):\n",
    "                break\n",
    "            valid_cntrs.append(cntr)\n",
    "            \n",
    "    # add contours to original frames\n",
    "    dmy = col_images[i].copy()\n",
    "    cv2.drawContours(dmy, valid_cntrs, -1, (127,200,0), 2)\n",
    "    \n",
    "    cv2.putText(dmy, \"vehicles detected: \" + str(len(valid_cntrs)), (55, 15), font, 0.6, (0, 180, 0), 2)\n",
    "    cv2.line(dmy, (0, 80),(256,80),(100, 255, 255))\n",
    "    cv2.imwrite(pathIn+str(i)+'.png',dmy)  "
   ]
  },
  {
   "cell_type": "markdown",
   "id": "a1df333c",
   "metadata": {},
   "source": [
    "# Speed Estimation using Optical Flow"
   ]
  },
  {
   "cell_type": "code",
   "execution_count": 32,
   "id": "f87e2010",
   "metadata": {},
   "outputs": [
    {
     "name": "stdout",
     "output_type": "stream",
     "text": [
      "No frames grabbed!\n"
     ]
    }
   ],
   "source": [
    "import numpy as np\n",
    "import cv2 as cv\n",
    "import array\n",
    "#from google.colab.patches import cv2_imshow\n",
    "from time import sleep\n",
    "delay = 60 \n",
    "cap = cv.VideoCapture('lane_3.mp4')\n",
    "\n",
    "# params for ShiTomasi corner detection\n",
    "feature_params = dict( maxCorners = 100,\n",
    "                       qualityLevel = 0.3,\n",
    "                       minDistance = 7,\n",
    "                       blockSize = 7 )\n",
    "\n",
    "# Parameters for lucas kanade optical flow\n",
    "lk_params = dict( winSize  = (15, 15),\n",
    "                  maxLevel = 2,\n",
    "                  criteria = (cv.TERM_CRITERIA_EPS | cv.TERM_CRITERIA_COUNT, 10, 0.03))\n",
    "\n",
    "# Create some random colors\n",
    "color = np.random.randint(0, 255, (100, 3))\n",
    "\n",
    "# Take first frame and find corners in it\n",
    "ret, old_frame = cap.read()\n",
    "temp = float(1/delay)\n",
    "sleep(temp) \n",
    "old_gray = cv.cvtColor(old_frame, cv.COLOR_BGR2GRAY)\n",
    "p0 = cv.goodFeaturesToTrack(old_gray, mask = None, **feature_params)\n",
    "\n",
    "# Create a mask image for drawing purposes\n",
    "mask = np.zeros_like(old_frame)\n",
    "while(1):\n",
    "    ret, frame = cap.read()\n",
    "    if not ret:\n",
    "        print('No frames grabbed!')\n",
    "        break\n",
    "    frame_gray = cv.cvtColor(frame, cv.COLOR_BGR2GRAY)\n",
    "    # calculate optical flow\n",
    "    p1, st, err = cv.calcOpticalFlowPyrLK(old_gray, frame_gray, p0, None, **lk_params)\n",
    "    # Select good points\n",
    "    if p1 is not None:\n",
    "        good_new = p1[st==1] \n",
    "        good_old = p0[st==1]\n",
    "    # draw the tracks\n",
    "    s = array.array('f',[])\n",
    "    t = array.array('f',[])\n",
    "    for i, (new, old) in enumerate(zip(good_new, good_old)):\n",
    "        \n",
    "        a, b = new.ravel()\n",
    "        c, d = old.ravel()\n",
    "        s.append(a)\n",
    "        t.append(c)\n",
    "        mask = cv.line(mask, (int(a), int(b)), (int(c), int(d)), color[i].tolist(), 2)\n",
    "        frame = cv.circle(frame, (int(a), int(b)), 5, color[i].tolist(), -1)\n",
    "    img = cv.add(frame, mask)\n",
    "\n",
    " \n",
    "\n",
    "    cv.imshow('frame1',img)\n",
    "    k = cv.waitKey(30) & 0xff\n",
    "    if k == 27:\n",
    "        break\n",
    "    # Now update the previous frame and previous points\n",
    "    old_gray = frame_gray.copy()\n",
    "    p0 = good_new.reshape(-1, 1, 2)\n",
    "cv.destroyAllWindows()"
   ]
  },
  {
   "cell_type": "code",
   "execution_count": 33,
   "id": "558b6162",
   "metadata": {},
   "outputs": [
    {
     "name": "stdout",
     "output_type": "stream",
     "text": [
      "Number of vehicles:  48\n",
      "The speed of car 1: -33.38623046875\n",
      "The speed of car 2: 1.903533935546875\n",
      "The speed of car 3: 3.7326812744140625\n",
      "The speed of car 4: -47.027587890625\n",
      "The speed of car 5: 49.045562744140625\n",
      "The speed of car 6: 13.835906982421875\n",
      "The speed of car 7: 7.183074951171875\n",
      "The speed of car 8: 0.91552734375\n",
      "The speed of car 9: -28.316497802734375\n",
      "The speed of car 10: -3.34930419921875\n"
     ]
    },
    {
     "ename": "IndexError",
     "evalue": "array index out of range",
     "output_type": "error",
     "traceback": [
      "\u001b[1;31m---------------------------------------------------------------------------\u001b[0m",
      "\u001b[1;31mIndexError\u001b[0m                                Traceback (most recent call last)",
      "\u001b[1;32m~\\AppData\\Local\\Temp\\ipykernel_11612\\993716583.py\u001b[0m in \u001b[0;36m<module>\u001b[1;34m\u001b[0m\n\u001b[0;32m      6\u001b[0m \u001b[1;32mfor\u001b[0m \u001b[0mi\u001b[0m \u001b[1;32min\u001b[0m \u001b[0mrange\u001b[0m\u001b[1;33m(\u001b[0m\u001b[0mno_of_vehicles\u001b[0m\u001b[1;33m[\u001b[0m\u001b[1;36m3\u001b[0m\u001b[1;33m]\u001b[0m\u001b[1;33m)\u001b[0m\u001b[1;33m:\u001b[0m\u001b[1;33m\u001b[0m\u001b[1;33m\u001b[0m\u001b[0m\n\u001b[0;32m      7\u001b[0m     \u001b[1;31m# Calculate the displacement of the ROI\u001b[0m\u001b[1;33m\u001b[0m\u001b[1;33m\u001b[0m\u001b[0m\n\u001b[1;32m----> 8\u001b[1;33m     \u001b[0mdisplacement\u001b[0m\u001b[1;33m.\u001b[0m\u001b[0mappend\u001b[0m\u001b[1;33m(\u001b[0m\u001b[0mt\u001b[0m\u001b[1;33m[\u001b[0m\u001b[0mi\u001b[0m\u001b[1;33m]\u001b[0m \u001b[1;33m-\u001b[0m \u001b[0ms\u001b[0m\u001b[1;33m[\u001b[0m\u001b[0mi\u001b[0m\u001b[1;33m]\u001b[0m\u001b[1;33m)\u001b[0m\u001b[1;33m\u001b[0m\u001b[1;33m\u001b[0m\u001b[0m\n\u001b[0m\u001b[0;32m      9\u001b[0m \u001b[1;33m\u001b[0m\u001b[0m\n\u001b[0;32m     10\u001b[0m     \u001b[1;31m# Calculate the speed\u001b[0m\u001b[1;33m\u001b[0m\u001b[1;33m\u001b[0m\u001b[0m\n",
      "\u001b[1;31mIndexError\u001b[0m: array index out of range"
     ]
    }
   ],
   "source": [
    "# The time_interval variable should be set to the time interval between successive frames in the video.\n",
    "time_interval = 1/5\n",
    "displacement = []\n",
    "speed = []\n",
    "print(\"Number of vehicles: \", no_of_vehicles[1])\n",
    "for i in range(no_of_vehicles[3]):\n",
    "    # Calculate the displacement of the ROI\n",
    "    displacement.append(t[i] - s[i])\n",
    "    \n",
    "    # Calculate the speed\n",
    "    speed.append(displacement[i] / time_interval * 100)\n",
    "\n",
    "\n",
    "    print('The speed of car ' + str(i+1) + \": \" + str(speed[i]))"
   ]
  },
  {
   "cell_type": "code",
   "execution_count": null,
   "id": "15bca5fc",
   "metadata": {},
   "outputs": [],
   "source": []
  }
 ],
 "metadata": {
  "kernelspec": {
   "display_name": "Python 3 (ipykernel)",
   "language": "python",
   "name": "python3"
  },
  "language_info": {
   "codemirror_mode": {
    "name": "ipython",
    "version": 3
   },
   "file_extension": ".py",
   "mimetype": "text/x-python",
   "name": "python",
   "nbconvert_exporter": "python",
   "pygments_lexer": "ipython3",
   "version": "3.9.13"
  },
  "widgets": {
   "application/vnd.jupyter.widget-state+json": {
    "state": {},
    "version_major": 2,
    "version_minor": 0
   }
  }
 },
 "nbformat": 4,
 "nbformat_minor": 5
}
